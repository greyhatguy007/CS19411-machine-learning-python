{
 "cells": [
  {
   "attachments": {},
   "cell_type": "markdown",
   "metadata": {},
   "source": [
    "# Python Programming For Machine Learning"
   ]
  },
  {
   "attachments": {},
   "cell_type": "markdown",
   "metadata": {},
   "source": [
    "## Lab"
   ]
  },
  {
   "attachments": {},
   "cell_type": "markdown",
   "metadata": {},
   "source": [
    "### 20/01/2023"
   ]
  },
  {
   "attachments": {},
   "cell_type": "markdown",
   "metadata": {},
   "source": [
    "#### Q1\n",
    "\n",
    "Get a single number from user which should be added to randomly generated number; check if that number is prime number or not.\n"
   ]
  },
  {
   "cell_type": "code",
   "execution_count": 4,
   "metadata": {},
   "outputs": [
    {
     "name": "stdout",
     "output_type": "stream",
     "text": [
      "Given Input : 459\n",
      "Randomly generated Number : 233\n",
      "Their Sum : 692\n",
      "692 is not prime\n"
     ]
    }
   ],
   "source": [
    "import random\n",
    "\n",
    "def isPrime(n) -> bool:\n",
    "  for i in range(2,int(n**0.5)):\n",
    "    if(n%i==0):return False\n",
    "  return True\n",
    "\n",
    "n = int(input('Enter Number : '))\n",
    "rand = random.randint(16,1024)\n",
    "print(f'Given Input : {n}')\n",
    "print(f'Randomly generated Number : {rand}')\n",
    "n += rand\n",
    "print(f'Their Sum : {n}')\n",
    "print(f\"{n} is {'prime' if isPrime(n) else 'not prime'}\")"
   ]
  },
  {
   "attachments": {},
   "cell_type": "markdown",
   "metadata": {},
   "source": [
    "#### Q2\n",
    "\n",
    "The number of holes that each of the digits from 0 to 9 have are equal to the number of closed path in the digit. Their values are:\n",
    "\n",
    "```\n",
    "[1,2,3,5,7] have 0 holes\n",
    "[0,4,6,9] have 1 hole\n",
    "[8] has 2 holes\n",
    "```\n",
    "\n",
    "Given a number, determine the sum of the number of holes for all of its digit\n",
    "\n",
    "```\n",
    "For example:\n",
    "819 gives 3 holes\n",
    "```"
   ]
  },
  {
   "cell_type": "code",
   "execution_count": 5,
   "metadata": {},
   "outputs": [
    {
     "name": "stdout",
     "output_type": "stream",
     "text": [
      "Given Number : 819\n",
      "The number of holes in 819 is 3\n"
     ]
    }
   ],
   "source": [
    "n = input()\n",
    "l2 = ['8']\n",
    "l1 = ['0','4','6','9']\n",
    "print(f'Given Number : {n}')\n",
    "ans = 0\n",
    "for i in n:\n",
    "  if i in l1:ans+=1\n",
    "  elif i in l2:ans+=2\n",
    "\n",
    "print(f'The number of holes in {n} is {ans}')"
   ]
  },
  {
   "attachments": {},
   "cell_type": "markdown",
   "metadata": {},
   "source": [
    "#### Q3\n",
    "\n",
    "Check whether the given year is leap year or not"
   ]
  },
  {
   "cell_type": "code",
   "execution_count": 6,
   "metadata": {},
   "outputs": [
    {
     "name": "stdout",
     "output_type": "stream",
     "text": [
      "Given Year : 2000\n",
      "Leap year\n"
     ]
    }
   ],
   "source": [
    "def leapCheck(n):\n",
    "  print(f'Given Year : {n}')\n",
    "  if n<0:return 'Not a valid year'\n",
    "  if(n%4==0 and (n%100!=0 or n%400==0)): return 'Leap year'\n",
    "  return 'Not a Leap year'\n",
    "print(leapCheck(int(input('Enter year: '))))  "
   ]
  }
 ],
 "metadata": {
  "kernelspec": {
   "display_name": "ml",
   "language": "python",
   "name": "python3"
  },
  "language_info": {
   "codemirror_mode": {
    "name": "ipython",
    "version": 3
   },
   "file_extension": ".py",
   "mimetype": "text/x-python",
   "name": "python",
   "nbconvert_exporter": "python",
   "pygments_lexer": "ipython3",
   "version": "3.9.13"
  },
  "orig_nbformat": 4,
  "vscode": {
   "interpreter": {
    "hash": "fc8025c7001d9e00e6937fc0308a5eed2272c70fa5be735b44798e1146c38873"
   }
  }
 },
 "nbformat": 4,
 "nbformat_minor": 2
}
