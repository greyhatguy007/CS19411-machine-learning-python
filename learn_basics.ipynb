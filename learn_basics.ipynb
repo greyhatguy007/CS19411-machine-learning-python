{
 "cells": [
  {
   "cell_type": "code",
   "execution_count": 7,
   "metadata": {},
   "outputs": [],
   "source": [
    "## To check leap year\n",
    "def isLeapYear(n:int) -> bool:\n",
    "    if(type(n)!=int):raise TypeError(\"Year must be an integer.\")\n",
    "    if n<0:raise ValueError(\"Year cannot be Negative.\")\n",
    "    if(n%4==0 and (n%100!=0 or n%400==0)): return True\n",
    "    return False"
   ]
  },
  {
   "cell_type": "code",
   "execution_count": 8,
   "metadata": {},
   "outputs": [
    {
     "ename": "TypeError",
     "evalue": "Year must be an integer.",
     "output_type": "error",
     "traceback": [
      "\u001b[0;31m---------------------------------------------------------------------------\u001b[0m",
      "\u001b[0;31mTypeError\u001b[0m                                 Traceback (most recent call last)",
      "Cell \u001b[0;32mIn[8], line 1\u001b[0m\n\u001b[0;32m----> 1\u001b[0m isLeapYear(\u001b[39m'\u001b[39;49m\u001b[39mhello\u001b[39;49m\u001b[39m'\u001b[39;49m)\n",
      "Cell \u001b[0;32mIn[7], line 3\u001b[0m, in \u001b[0;36misLeapYear\u001b[0;34m(n)\u001b[0m\n\u001b[1;32m      2\u001b[0m \u001b[39mdef\u001b[39;00m \u001b[39misLeapYear\u001b[39m(n:\u001b[39mint\u001b[39m) \u001b[39m-\u001b[39m\u001b[39m>\u001b[39m \u001b[39mbool\u001b[39m:\n\u001b[0;32m----> 3\u001b[0m     \u001b[39mif\u001b[39;00m(\u001b[39mtype\u001b[39m(n)\u001b[39m!=\u001b[39m\u001b[39mint\u001b[39m):\u001b[39mraise\u001b[39;00m \u001b[39mTypeError\u001b[39;00m(\u001b[39m\"\u001b[39m\u001b[39mYear must be an integer.\u001b[39m\u001b[39m\"\u001b[39m)\n\u001b[1;32m      4\u001b[0m     \u001b[39mif\u001b[39;00m n\u001b[39m<\u001b[39m\u001b[39m0\u001b[39m:\u001b[39mraise\u001b[39;00m \u001b[39mValueError\u001b[39;00m(\u001b[39m\"\u001b[39m\u001b[39mYear cannot be Negative.\u001b[39m\u001b[39m\"\u001b[39m)\n\u001b[1;32m      5\u001b[0m     \u001b[39mif\u001b[39;00m(n\u001b[39m%\u001b[39m\u001b[39m4\u001b[39m\u001b[39m==\u001b[39m\u001b[39m0\u001b[39m \u001b[39mand\u001b[39;00m (n\u001b[39m%\u001b[39m\u001b[39m100\u001b[39m\u001b[39m!=\u001b[39m\u001b[39m0\u001b[39m \u001b[39mor\u001b[39;00m n\u001b[39m%\u001b[39m\u001b[39m400\u001b[39m\u001b[39m==\u001b[39m\u001b[39m0\u001b[39m)): \u001b[39mreturn\u001b[39;00m \u001b[39mTrue\u001b[39;00m\n",
      "\u001b[0;31mTypeError\u001b[0m: Year must be an integer."
     ]
    }
   ],
   "source": [
    "isLeapYear('hello')"
   ]
  },
  {
   "cell_type": "code",
   "execution_count": null,
   "metadata": {},
   "outputs": [],
   "source": []
  }
 ],
 "metadata": {
  "kernelspec": {
   "display_name": "ml",
   "language": "python",
   "name": "python3"
  },
  "language_info": {
   "codemirror_mode": {
    "name": "ipython",
    "version": 3
   },
   "file_extension": ".py",
   "mimetype": "text/x-python",
   "name": "python",
   "nbconvert_exporter": "python",
   "pygments_lexer": "ipython3",
   "version": "3.9.13"
  },
  "orig_nbformat": 4,
  "vscode": {
   "interpreter": {
    "hash": "fc8025c7001d9e00e6937fc0308a5eed2272c70fa5be735b44798e1146c38873"
   }
  }
 },
 "nbformat": 4,
 "nbformat_minor": 2
}
