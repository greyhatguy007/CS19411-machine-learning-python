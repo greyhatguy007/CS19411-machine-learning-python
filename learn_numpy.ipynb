{
 "cells": [
  {
   "cell_type": "code",
   "execution_count": 1,
   "metadata": {},
   "outputs": [
    {
     "data": {
      "text/plain": [
       "'1.23.3'"
      ]
     },
     "execution_count": 1,
     "metadata": {},
     "output_type": "execute_result"
    }
   ],
   "source": [
    "import numpy as np\n",
    "np.__version__"
   ]
  },
  {
   "cell_type": "code",
   "execution_count": 13,
   "metadata": {},
   "outputs": [
    {
     "data": {
      "text/plain": [
       "array([[[ 1.,  2.],\n",
       "        [ 3.,  4.],\n",
       "        [ 5.,  6.],\n",
       "        [ 7.,  8.],\n",
       "        [ 9., 10.]],\n",
       "\n",
       "       [[11., 12.],\n",
       "        [13., 14.],\n",
       "        [15., 16.],\n",
       "        [17., 18.],\n",
       "        [19., 20.]],\n",
       "\n",
       "       [[21., 22.],\n",
       "        [23., 24.],\n",
       "        [25., 26.],\n",
       "        [27., 28.],\n",
       "        [29., 30.]]])"
      ]
     },
     "execution_count": 13,
     "metadata": {},
     "output_type": "execute_result"
    }
   ],
   "source": [
    "np.linspace(start=1, stop=30, num=30).reshape((3,5,2))"
   ]
  },
  {
   "cell_type": "code",
   "execution_count": 14,
   "metadata": {},
   "outputs": [
    {
     "name": "stdout",
     "output_type": "stream",
     "text": [
      "[[5 1 2]\n",
      " [6 3 8]\n",
      " [4 7 9]] (3, 3) 2\n"
     ]
    }
   ],
   "source": [
    "a = np.array([\n",
    "    [5,1,2],\n",
    "    [6,3,8],\n",
    "    [4,7,9]\n",
    "])\n",
    "\n",
    "print(a, a.shape , a.ndim)"
   ]
  },
  {
   "cell_type": "code",
   "execution_count": null,
   "metadata": {},
   "outputs": [],
   "source": []
  }
 ],
 "metadata": {
  "kernelspec": {
   "display_name": "ml",
   "language": "python",
   "name": "python3"
  },
  "language_info": {
   "codemirror_mode": {
    "name": "ipython",
    "version": 3
   },
   "file_extension": ".py",
   "mimetype": "text/x-python",
   "name": "python",
   "nbconvert_exporter": "python",
   "pygments_lexer": "ipython3",
   "version": "3.9.13"
  },
  "orig_nbformat": 4,
  "vscode": {
   "interpreter": {
    "hash": "fc8025c7001d9e00e6937fc0308a5eed2272c70fa5be735b44798e1146c38873"
   }
  }
 },
 "nbformat": 4,
 "nbformat_minor": 2
}
